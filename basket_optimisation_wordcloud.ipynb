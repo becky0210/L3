{
 "cells": [
  {
   "cell_type": "code",
   "execution_count": 2,
   "metadata": {
    "scrolled": true
   },
   "outputs": [
    {
     "name": "stdout",
     "output_type": "stream",
     "text": [
      "根据词频，开始生成词云!\n"
     ]
    },
    {
     "data": {
      "image/png": "[encoded data removed]",
      "text/plain": [
       "<Figure size 432x288 with 1 Axes>"
      ]
     },
     "metadata": {
      "needs_background": "light"
     },
     "output_type": "display_data"
    }
   ],
   "source": [
    "# -*- coding:utf-8 -*-\n",
    "# 词云展示\n",
    "from wordcloud import WordCloud\n",
    "import pandas as pd\n",
    "import matplotlib.pyplot as plt\n",
    "from PIL import Image\n",
    "import numpy as np\n",
    "from lxml import etree\n",
    "from nltk.tokenize import word_tokenize\n",
    "%matplotlib inline\n",
    "# 去掉停用词\n",
    "def remove_stop_words(f):\n",
    "    \n",
    "\tstop_words = ['Movie']\n",
    "\tfor stop_word in stop_words:\n",
    "\t\tf = f.replace(stop_word, '')\n",
    "\treturn f\n",
    "\n",
    "# 生成词云\n",
    "def create_word_cloud(f):\n",
    "\tprint('根据词频，开始生成词云!')\n",
    "# \tf = remove_stop_words(f)\n",
    "\tcut_text = word_tokenize(f)\n",
    "# \tprint(cut_text)\n",
    "\tcut_text = \" \".join(cut_text)\n",
    "\twc = WordCloud(\n",
    "\t\tmax_words=10,\n",
    "\t\twidth=1000,\n",
    "\t\theight=1200,\n",
    "    )\n",
    "\twordcloud = wc.generate(cut_text)\n",
    "\t# 写词云图片\n",
    "\twordcloud.to_file(\"wordcloud.jpg\")\n",
    "\t# 显示词云文件\n",
    "\tplt.imshow(wordcloud)\n",
    "\tplt.axis(\"off\")\n",
    "\tplt.show()\n",
    "\n",
    "# 数据加载\n",
    "data = pd.read_csv('./Market_Basket_Optimisation.csv',header=None)\n",
    "data.fillna(\"null\",inplace=True)\n",
    "temp_df=pd.DataFrame(data[0]+' '+data[1]+' '+data[2]+' '+data[3]+' '+data[4]+' '+data[5]+' '+data[6]+' '+data[7]+' '+data[8]+' '+data[9]+' '+data[10]+' '+data[11]+' '+data[12]+' '+data[13]+' '+data[14]+' '+data[15]+' '+data[16]+' '+data[17]+' '+data[18]+' '+data[19])\n",
    "temp_df.columns=['trans']\n",
    "temp_df['trans_new']=temp_df['trans'].map(lambda x:x.replace(' null',''))\n",
    "\n",
    "# 读取basket中的item\n",
    "\n",
    "all_word = \" \".join(temp_df['trans_new'])\n",
    "\n",
    "# 生成词云\n",
    "create_word_cloud(all_word)\n"
   ]
  },
  {
   "cell_type": "code",
   "execution_count": 8,
   "metadata": {},
   "outputs": [],
   "source": []
  },
  {
   "cell_type": "code",
   "execution_count": null,
   "metadata": {},
   "outputs": [],
   "source": []
  }
 ],
 "metadata": {
  "kernelspec": {
   "display_name": "Python 3",
   "language": "python",
   "name": "python3"
  },
  "language_info": {
   "codemirror_mode": {
    "name": "ipython",
    "version": 3
   },
   "file_extension": ".py",
   "mimetype": "text/x-python",
   "name": "python",
   "nbconvert_exporter": "python",
   "pygments_lexer": "ipython3",
   "version": "3.7.0"
  }
 },
 "nbformat": 4,
 "nbformat_minor": 2
}
